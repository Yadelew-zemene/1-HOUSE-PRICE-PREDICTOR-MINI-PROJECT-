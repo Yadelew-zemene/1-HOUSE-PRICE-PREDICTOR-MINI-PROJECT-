import pandas as pd
import matplotlib.pyplot as plt
import seaborn as sns
from sklearn.model_selection import train_test_split

"""
The data I used to train the model is california housing price(large data set)
Note the TARGET variable is median_house_value
"""

dataset = pd.read_csv("housing.csv")

#print(dataset.head(50))

dataset.dropna(inplace=True)
dataset.info()
x=dataset.drop(["median_house_value"],axis=1)
y=dataset["median_house_value"]
#using 20% of the data
x_train,x_test,y_train,y_test=train_test_split(x,y,test_size=0.2)
dataTrian=x_train.join(y_train)
print(dataTrian)

